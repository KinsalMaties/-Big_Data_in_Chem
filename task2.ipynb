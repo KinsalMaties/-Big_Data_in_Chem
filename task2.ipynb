{
  "nbformat": 4,
  "nbformat_minor": 0,
  "metadata": {
    "colab": {
      "provenance": []
    },
    "kernelspec": {
      "name": "python3",
      "display_name": "Python 3"
    },
    "language_info": {
      "name": "python"
    }
  },
  "cells": [
    {
      "cell_type": "markdown",
      "source": [
        "1. For your dataset get 1000+ descriptors from 2+ sources: RDKit, Pubchem, Mordred, etc."
      ],
      "metadata": {
        "id": "KLiVardbEOKr"
      }
    },
    {
      "cell_type": "code",
      "source": [
        "pip install rdkit"
      ],
      "metadata": {
        "colab": {
          "base_uri": "https://localhost:8080/"
        },
        "id": "JfWSOjATSvSn",
        "outputId": "555ec426-469a-434e-8c0f-1cb193a2e282"
      },
      "execution_count": 1,
      "outputs": [
        {
          "output_type": "stream",
          "name": "stdout",
          "text": [
            "Requirement already satisfied: rdkit in /usr/local/lib/python3.10/dist-packages (2023.9.5)\n",
            "Requirement already satisfied: numpy in /usr/local/lib/python3.10/dist-packages (from rdkit) (1.25.2)\n",
            "Requirement already satisfied: Pillow in /usr/local/lib/python3.10/dist-packages (from rdkit) (9.4.0)\n"
          ]
        }
      ]
    },
    {
      "cell_type": "code",
      "execution_count": 2,
      "metadata": {
        "id": "lfkI1rZJSBWq"
      },
      "outputs": [],
      "source": [
        "import pandas as pd\n",
        "from rdkit import Chem\n",
        "from rdkit.Chem import Descriptors\n",
        "from sklearn.feature_selection import SelectKBest, mutual_info_regression"
      ]
    },
    {
      "cell_type": "code",
      "source": [
        "df = pd.read_csv(\"qm9_new.csv\")"
      ],
      "metadata": {
        "id": "M5ZyYd2WSlKf"
      },
      "execution_count": 3,
      "outputs": []
    },
    {
      "cell_type": "code",
      "source": [
        "df.info()"
      ],
      "metadata": {
        "colab": {
          "base_uri": "https://localhost:8080/"
        },
        "id": "ICb-T63MEkSS",
        "outputId": "2d855906-3a7e-41eb-d978-1927e189396d"
      },
      "execution_count": 4,
      "outputs": [
        {
          "output_type": "stream",
          "name": "stdout",
          "text": [
            "<class 'pandas.core.frame.DataFrame'>\n",
            "RangeIndex: 20000 entries, 0 to 19999\n",
            "Data columns (total 17 columns):\n",
            " #   Column  Non-Null Count  Dtype  \n",
            "---  ------  --------------  -----  \n",
            " 0   mol_id  20000 non-null  object \n",
            " 1   smiles  20000 non-null  object \n",
            " 2   A       20000 non-null  float64\n",
            " 3   B       20000 non-null  float64\n",
            " 4   C       20000 non-null  float64\n",
            " 5   mu      20000 non-null  float64\n",
            " 6   alpha   20000 non-null  float64\n",
            " 7   homo    20000 non-null  float64\n",
            " 8   lumo    20000 non-null  float64\n",
            " 9   gap     20000 non-null  float64\n",
            " 10  r2      20000 non-null  float64\n",
            " 11  zpve    20000 non-null  float64\n",
            " 12  u0      20000 non-null  float64\n",
            " 13  u298    20000 non-null  float64\n",
            " 14  h298    20000 non-null  float64\n",
            " 15  g298    20000 non-null  float64\n",
            " 16  cv      20000 non-null  float64\n",
            "dtypes: float64(15), object(2)\n",
            "memory usage: 2.6+ MB\n"
          ]
        }
      ]
    },
    {
      "cell_type": "code",
      "source": [
        "# Извлечение химических дескрипторов с помощью RDKit\n",
        "def calculate_descriptors(smiles):\n",
        "    mol = Chem.MolFromSmiles(smiles)\n",
        "    if mol is None:\n",
        "        return None\n",
        "    descriptors = {\n",
        "        'MolecularWeight': Descriptors.MolWt(mol),\n",
        "        'NumAtoms': Descriptors.HeavyAtomCount(mol),\n",
        "        # Другие дескрипторы RDKit\n",
        "    }\n",
        "    return descriptors\n"
      ],
      "metadata": {
        "id": "PwdDX33OS3AF"
      },
      "execution_count": 5,
      "outputs": []
    },
    {
      "cell_type": "markdown",
      "source": [
        "\n",
        "# Применение функции к столбцу 'smiles' для извлечения дескрипторов"
      ],
      "metadata": {
        "id": "J5BkFAGUC8Dk"
      }
    },
    {
      "cell_type": "code",
      "source": [
        "print(df.columns)"
      ],
      "metadata": {
        "colab": {
          "base_uri": "https://localhost:8080/"
        },
        "id": "u9Irw3qXUmRs",
        "outputId": "c50dfd33-3bdc-4459-ed75-7bb8ce67b454"
      },
      "execution_count": 7,
      "outputs": [
        {
          "output_type": "stream",
          "name": "stdout",
          "text": [
            "Index(['mol_id', 'smiles', 'A', 'B', 'C', 'mu', 'alpha', 'homo', 'lumo', 'gap',\n",
            "       'r2', 'zpve', 'u0', 'u298', 'h298', 'g298', 'cv'],\n",
            "      dtype='object')\n"
          ]
        }
      ]
    },
    {
      "cell_type": "code",
      "source": [
        "df.info()"
      ],
      "metadata": {
        "colab": {
          "base_uri": "https://localhost:8080/"
        },
        "id": "d-HAbLVBE7gS",
        "outputId": "d813b42d-8e3a-4ce2-d61d-97732d0f72f0"
      },
      "execution_count": 8,
      "outputs": [
        {
          "output_type": "stream",
          "name": "stdout",
          "text": [
            "<class 'pandas.core.frame.DataFrame'>\n",
            "RangeIndex: 20000 entries, 0 to 19999\n",
            "Data columns (total 17 columns):\n",
            " #   Column  Non-Null Count  Dtype  \n",
            "---  ------  --------------  -----  \n",
            " 0   mol_id  20000 non-null  object \n",
            " 1   smiles  20000 non-null  object \n",
            " 2   A       20000 non-null  float64\n",
            " 3   B       20000 non-null  float64\n",
            " 4   C       20000 non-null  float64\n",
            " 5   mu      20000 non-null  float64\n",
            " 6   alpha   20000 non-null  float64\n",
            " 7   homo    20000 non-null  float64\n",
            " 8   lumo    20000 non-null  float64\n",
            " 9   gap     20000 non-null  float64\n",
            " 10  r2      20000 non-null  float64\n",
            " 11  zpve    20000 non-null  float64\n",
            " 12  u0      20000 non-null  float64\n",
            " 13  u298    20000 non-null  float64\n",
            " 14  h298    20000 non-null  float64\n",
            " 15  g298    20000 non-null  float64\n",
            " 16  cv      20000 non-null  float64\n",
            "dtypes: float64(15), object(2)\n",
            "memory usage: 2.6+ MB\n"
          ]
        }
      ]
    },
    {
      "cell_type": "code",
      "source": [
        "df['Descriptors'] = df['smiles'].apply(calculate_descriptors)"
      ],
      "metadata": {
        "id": "J-T2cYzZS9fd"
      },
      "execution_count": 9,
      "outputs": []
    },
    {
      "cell_type": "code",
      "source": [
        "df.info()"
      ],
      "metadata": {
        "colab": {
          "base_uri": "https://localhost:8080/"
        },
        "id": "NKggPILWVMzr",
        "outputId": "a7034045-a10e-47e4-8710-4633d4af7bc0"
      },
      "execution_count": 10,
      "outputs": [
        {
          "output_type": "stream",
          "name": "stdout",
          "text": [
            "<class 'pandas.core.frame.DataFrame'>\n",
            "RangeIndex: 20000 entries, 0 to 19999\n",
            "Data columns (total 18 columns):\n",
            " #   Column       Non-Null Count  Dtype  \n",
            "---  ------       --------------  -----  \n",
            " 0   mol_id       20000 non-null  object \n",
            " 1   smiles       20000 non-null  object \n",
            " 2   A            20000 non-null  float64\n",
            " 3   B            20000 non-null  float64\n",
            " 4   C            20000 non-null  float64\n",
            " 5   mu           20000 non-null  float64\n",
            " 6   alpha        20000 non-null  float64\n",
            " 7   homo         20000 non-null  float64\n",
            " 8   lumo         20000 non-null  float64\n",
            " 9   gap          20000 non-null  float64\n",
            " 10  r2           20000 non-null  float64\n",
            " 11  zpve         20000 non-null  float64\n",
            " 12  u0           20000 non-null  float64\n",
            " 13  u298         20000 non-null  float64\n",
            " 14  h298         20000 non-null  float64\n",
            " 15  g298         20000 non-null  float64\n",
            " 16  cv           20000 non-null  float64\n",
            " 17  Descriptors  20000 non-null  object \n",
            "dtypes: float64(15), object(3)\n",
            "memory usage: 2.7+ MB\n"
          ]
        }
      ]
    },
    {
      "cell_type": "code",
      "source": [
        "df = df.dropna(subset=['Descriptors'])"
      ],
      "metadata": {
        "id": "f9KI06HjTC8V"
      },
      "execution_count": 11,
      "outputs": []
    },
    {
      "cell_type": "code",
      "source": [
        "# Преобразование дескрипторов в отдельные столбцы\n",
        "df = pd.concat([df.drop(['Descriptors'], axis=1), df['Descriptors'].apply(pd.Series)], axis=1)"
      ],
      "metadata": {
        "id": "XVDGCLFSVPQ6"
      },
      "execution_count": 12,
      "outputs": []
    },
    {
      "cell_type": "code",
      "source": [
        "# Определение целевой переменной\n",
        "X = df.drop(['cv', 'smiles', 'mol_id'], axis=1)  # Матрица признаков\n",
        "y = df['cv']  # Целевая переменная"
      ],
      "metadata": {
        "id": "LM0i0niGVQx7"
      },
      "execution_count": 14,
      "outputs": []
    },
    {
      "cell_type": "code",
      "source": [
        "# Выбор признаков с использованием SelectKBest и mutual_info_regression\n",
        "selector = SelectKBest(mutual_info_regression, k=5)  # Выберите желаемое количество признаков\n",
        "X_selected = selector.fit_transform(X, y)\n",
        "selected_features = X.columns[selector.get_support()]"
      ],
      "metadata": {
        "id": "xDqYvz6NDRJj"
      },
      "execution_count": 15,
      "outputs": []
    },
    {
      "cell_type": "code",
      "source": [
        "print(\"Selected features:\", selected_features)"
      ],
      "metadata": {
        "id": "XW4GhMaWVdqb",
        "colab": {
          "base_uri": "https://localhost:8080/"
        },
        "outputId": "3ad67079-9ded-4daf-a7ea-71d0587b6396"
      },
      "execution_count": 16,
      "outputs": [
        {
          "output_type": "stream",
          "name": "stdout",
          "text": [
            "Selected features: Index(['zpve', 'u0', 'u298', 'h298', 'g298'], dtype='object')\n"
          ]
        }
      ]
    }
  ]
}