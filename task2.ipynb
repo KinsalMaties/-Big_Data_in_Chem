{
  "nbformat": 4,
  "nbformat_minor": 0,
  "metadata": {
    "colab": {
      "provenance": []
    },
    "kernelspec": {
      "name": "python3",
      "display_name": "Python 3"
    },
    "language_info": {
      "name": "python"
    }
  },
  "cells": [
    {
      "cell_type": "markdown",
      "source": [
        "# For dataset **qm9_new.csv** get 1000+ descriptors from 2+ sources: RDKit, Pubchem, Mordred, etc."
      ],
      "metadata": {
        "id": "KLiVardbEOKr"
      }
    },
    {
      "cell_type": "code",
      "source": [
        "pip install rdkit"
      ],
      "metadata": {
        "colab": {
          "base_uri": "https://localhost:8080/"
        },
        "id": "JfWSOjATSvSn",
        "outputId": "37858568-2c80-4c69-f009-3447e19b1dfa"
      },
      "execution_count": 1,
      "outputs": [
        {
          "output_type": "stream",
          "name": "stdout",
          "text": [
            "Requirement already satisfied: rdkit in /usr/local/lib/python3.10/dist-packages (2023.9.5)\n",
            "Requirement already satisfied: numpy in /usr/local/lib/python3.10/dist-packages (from rdkit) (1.25.2)\n",
            "Requirement already satisfied: Pillow in /usr/local/lib/python3.10/dist-packages (from rdkit) (9.4.0)\n"
          ]
        }
      ]
    },
    {
      "cell_type": "code",
      "execution_count": 2,
      "metadata": {
        "id": "lfkI1rZJSBWq"
      },
      "outputs": [],
      "source": [
        "import pandas as pd\n",
        "from rdkit import Chem\n",
        "from rdkit.Chem import Descriptors\n",
        "from sklearn.feature_selection import SelectKBest, mutual_info_regression"
      ]
    },
    {
      "cell_type": "code",
      "source": [
        "df = pd.read_csv(\"qm9_new.csv\")"
      ],
      "metadata": {
        "id": "M5ZyYd2WSlKf"
      },
      "execution_count": 3,
      "outputs": []
    },
    {
      "cell_type": "code",
      "source": [
        "df.info()"
      ],
      "metadata": {
        "colab": {
          "base_uri": "https://localhost:8080/"
        },
        "id": "ICb-T63MEkSS",
        "outputId": "d808aabb-428c-46fa-a122-dfb8a18cc828"
      },
      "execution_count": 4,
      "outputs": [
        {
          "output_type": "stream",
          "name": "stdout",
          "text": [
            "<class 'pandas.core.frame.DataFrame'>\n",
            "RangeIndex: 20000 entries, 0 to 19999\n",
            "Data columns (total 17 columns):\n",
            " #   Column  Non-Null Count  Dtype  \n",
            "---  ------  --------------  -----  \n",
            " 0   mol_id  20000 non-null  object \n",
            " 1   smiles  20000 non-null  object \n",
            " 2   A       20000 non-null  float64\n",
            " 3   B       20000 non-null  float64\n",
            " 4   C       20000 non-null  float64\n",
            " 5   mu      20000 non-null  float64\n",
            " 6   alpha   20000 non-null  float64\n",
            " 7   homo    20000 non-null  float64\n",
            " 8   lumo    20000 non-null  float64\n",
            " 9   gap     20000 non-null  float64\n",
            " 10  r2      20000 non-null  float64\n",
            " 11  zpve    20000 non-null  float64\n",
            " 12  u0      20000 non-null  float64\n",
            " 13  u298    20000 non-null  float64\n",
            " 14  h298    20000 non-null  float64\n",
            " 15  g298    20000 non-null  float64\n",
            " 16  cv      20000 non-null  float64\n",
            "dtypes: float64(15), object(2)\n",
            "memory usage: 2.6+ MB\n"
          ]
        }
      ]
    },
    {
      "cell_type": "code",
      "source": [
        "# Извлечение химических дескрипторов с помощью RDKit\n",
        "def calculate_descriptors(smiles):\n",
        "    mol = Chem.MolFromSmiles(smiles)\n",
        "    if mol is None:\n",
        "        return None\n",
        "    descriptors = {\n",
        "        'MolecularWeight': Descriptors.MolWt(mol),\n",
        "        'NumAtoms': Descriptors.HeavyAtomCount(mol),\n",
        "        # Другие дескрипторы RDKit\n",
        "    }\n",
        "    return descriptors\n"
      ],
      "metadata": {
        "id": "PwdDX33OS3AF"
      },
      "execution_count": 5,
      "outputs": []
    },
    {
      "cell_type": "markdown",
      "source": [
        "\n",
        "# Применение функции к столбцу 'smiles' для извлечения дескрипторов"
      ],
      "metadata": {
        "id": "J5BkFAGUC8Dk"
      }
    },
    {
      "cell_type": "code",
      "source": [
        "print(df.columns)"
      ],
      "metadata": {
        "colab": {
          "base_uri": "https://localhost:8080/"
        },
        "id": "u9Irw3qXUmRs",
        "outputId": "7ec6c7ef-391c-41e4-c5ac-4dc7b9cd9b66"
      },
      "execution_count": 6,
      "outputs": [
        {
          "output_type": "stream",
          "name": "stdout",
          "text": [
            "Index(['mol_id', 'smiles', 'A', 'B', 'C', 'mu', 'alpha', 'homo', 'lumo', 'gap',\n",
            "       'r2', 'zpve', 'u0', 'u298', 'h298', 'g298', 'cv'],\n",
            "      dtype='object')\n"
          ]
        }
      ]
    },
    {
      "cell_type": "code",
      "source": [
        "df.info()"
      ],
      "metadata": {
        "colab": {
          "base_uri": "https://localhost:8080/"
        },
        "id": "d-HAbLVBE7gS",
        "outputId": "27e2e17e-686f-40ae-b697-7b75ae9a5274"
      },
      "execution_count": 7,
      "outputs": [
        {
          "output_type": "stream",
          "name": "stdout",
          "text": [
            "<class 'pandas.core.frame.DataFrame'>\n",
            "RangeIndex: 20000 entries, 0 to 19999\n",
            "Data columns (total 17 columns):\n",
            " #   Column  Non-Null Count  Dtype  \n",
            "---  ------  --------------  -----  \n",
            " 0   mol_id  20000 non-null  object \n",
            " 1   smiles  20000 non-null  object \n",
            " 2   A       20000 non-null  float64\n",
            " 3   B       20000 non-null  float64\n",
            " 4   C       20000 non-null  float64\n",
            " 5   mu      20000 non-null  float64\n",
            " 6   alpha   20000 non-null  float64\n",
            " 7   homo    20000 non-null  float64\n",
            " 8   lumo    20000 non-null  float64\n",
            " 9   gap     20000 non-null  float64\n",
            " 10  r2      20000 non-null  float64\n",
            " 11  zpve    20000 non-null  float64\n",
            " 12  u0      20000 non-null  float64\n",
            " 13  u298    20000 non-null  float64\n",
            " 14  h298    20000 non-null  float64\n",
            " 15  g298    20000 non-null  float64\n",
            " 16  cv      20000 non-null  float64\n",
            "dtypes: float64(15), object(2)\n",
            "memory usage: 2.6+ MB\n"
          ]
        }
      ]
    },
    {
      "cell_type": "code",
      "source": [
        "df['Descriptors'] = df['smiles'].apply(calculate_descriptors)"
      ],
      "metadata": {
        "id": "J-T2cYzZS9fd"
      },
      "execution_count": 8,
      "outputs": []
    },
    {
      "cell_type": "code",
      "source": [
        "df.info()"
      ],
      "metadata": {
        "colab": {
          "base_uri": "https://localhost:8080/"
        },
        "id": "NKggPILWVMzr",
        "outputId": "07e38dbb-4a8b-4c33-8d39-8ee1ced19dc7"
      },
      "execution_count": 9,
      "outputs": [
        {
          "output_type": "stream",
          "name": "stdout",
          "text": [
            "<class 'pandas.core.frame.DataFrame'>\n",
            "RangeIndex: 20000 entries, 0 to 19999\n",
            "Data columns (total 18 columns):\n",
            " #   Column       Non-Null Count  Dtype  \n",
            "---  ------       --------------  -----  \n",
            " 0   mol_id       20000 non-null  object \n",
            " 1   smiles       20000 non-null  object \n",
            " 2   A            20000 non-null  float64\n",
            " 3   B            20000 non-null  float64\n",
            " 4   C            20000 non-null  float64\n",
            " 5   mu           20000 non-null  float64\n",
            " 6   alpha        20000 non-null  float64\n",
            " 7   homo         20000 non-null  float64\n",
            " 8   lumo         20000 non-null  float64\n",
            " 9   gap          20000 non-null  float64\n",
            " 10  r2           20000 non-null  float64\n",
            " 11  zpve         20000 non-null  float64\n",
            " 12  u0           20000 non-null  float64\n",
            " 13  u298         20000 non-null  float64\n",
            " 14  h298         20000 non-null  float64\n",
            " 15  g298         20000 non-null  float64\n",
            " 16  cv           20000 non-null  float64\n",
            " 17  Descriptors  20000 non-null  object \n",
            "dtypes: float64(15), object(3)\n",
            "memory usage: 2.7+ MB\n"
          ]
        }
      ]
    },
    {
      "cell_type": "code",
      "source": [
        "df = df.dropna(subset=['Descriptors'])"
      ],
      "metadata": {
        "id": "f9KI06HjTC8V"
      },
      "execution_count": 10,
      "outputs": []
    },
    {
      "cell_type": "code",
      "source": [
        "# Преобразование дескрипторов в отдельные столбцы\n",
        "df = pd.concat([df.drop(['Descriptors'], axis=1), df['Descriptors'].apply(pd.Series)], axis=1)"
      ],
      "metadata": {
        "id": "XVDGCLFSVPQ6"
      },
      "execution_count": 11,
      "outputs": []
    },
    {
      "cell_type": "markdown",
      "source": [
        "gap - target"
      ],
      "metadata": {
        "id": "D-b1NgVYMOR9"
      }
    },
    {
      "cell_type": "code",
      "source": [
        "# Определение целевой переменной gap\n",
        "X = df.drop(['gap', 'smiles', 'mol_id'], axis=1)  # Матрица признаков\n",
        "y = df['gap']  # Целевая переменная"
      ],
      "metadata": {
        "id": "LM0i0niGVQx7"
      },
      "execution_count": 12,
      "outputs": []
    },
    {
      "cell_type": "code",
      "source": [
        "# Выбор признаков с использованием SelectKBest и mutual_info_regression\n",
        "selector = SelectKBest(mutual_info_regression, k=5)  # Выберите желаемое количество признаков\n",
        "X_selected = selector.fit_transform(X, y)\n",
        "selected_features = X.columns[selector.get_support()]"
      ],
      "metadata": {
        "id": "xDqYvz6NDRJj"
      },
      "execution_count": 13,
      "outputs": []
    },
    {
      "cell_type": "code",
      "source": [
        "print(\"Selected features:\", selected_features)"
      ],
      "metadata": {
        "id": "XW4GhMaWVdqb",
        "colab": {
          "base_uri": "https://localhost:8080/"
        },
        "outputId": "8246996d-f680-4ca9-b35f-5921eb97a4bd"
      },
      "execution_count": 14,
      "outputs": [
        {
          "output_type": "stream",
          "name": "stdout",
          "text": [
            "Selected features: Index(['lumo', 'u0', 'u298', 'h298', 'g298'], dtype='object')\n"
          ]
        }
      ]
    },
    {
      "cell_type": "code",
      "source": [],
      "metadata": {
        "id": "1DC6odADMu8D"
      },
      "execution_count": null,
      "outputs": []
    }
  ]
}