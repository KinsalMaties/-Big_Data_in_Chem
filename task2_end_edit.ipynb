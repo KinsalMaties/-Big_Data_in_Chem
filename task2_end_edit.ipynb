{
  "nbformat": 4,
  "nbformat_minor": 0,
  "metadata": {
    "colab": {
      "provenance": []
    },
    "kernelspec": {
      "name": "python3",
      "display_name": "Python 3"
    },
    "language_info": {
      "name": "python"
    }
  },
  "cells": [
    {
      "cell_type": "markdown",
      "metadata": {
        "id": "view-in-github"
      },
      "source": [
        "<a href=\"https://colab.research.google.com/github/illhammm/Data-in-chem/blob/main/task2.ipynb\" target=\"_parent\"><img src=\"https://colab.research.google.com/assets/colab-badge.svg\" alt=\"Open In Colab\"/></a>"
      ]
    },
    {
      "cell_type": "code",
      "source": [
        "!pip install pandas rdkit pubchempy mordred"
      ],
      "metadata": {
        "colab": {
          "base_uri": "https://localhost:8080/"
        },
        "id": "DybxC5A3bsR0",
        "outputId": "1ce094d2-5382-46bc-e914-c60858c9163f"
      },
      "execution_count": 1,
      "outputs": [
        {
          "output_type": "stream",
          "name": "stdout",
          "text": [
            "Requirement already satisfied: pandas in /usr/local/lib/python3.10/dist-packages (2.0.3)\n",
            "Collecting rdkit\n",
            "  Downloading rdkit-2023.9.5-cp310-cp310-manylinux_2_17_x86_64.manylinux2014_x86_64.whl (34.4 MB)\n",
            "\u001b[2K     \u001b[90m━━━━━━━━━━━━━━━━━━━━━━━━━━━━━━━━━━━━━━━━\u001b[0m \u001b[32m34.4/34.4 MB\u001b[0m \u001b[31m1.0 MB/s\u001b[0m eta \u001b[36m0:00:00\u001b[0m\n",
            "\u001b[?25hCollecting pubchempy\n",
            "  Downloading PubChemPy-1.0.4.tar.gz (29 kB)\n",
            "  Preparing metadata (setup.py) ... \u001b[?25l\u001b[?25hdone\n",
            "Collecting mordred\n",
            "  Downloading mordred-1.2.0.tar.gz (128 kB)\n",
            "\u001b[2K     \u001b[90m━━━━━━━━━━━━━━━━━━━━━━━━━━━━━━━━━━━━━━━━\u001b[0m \u001b[32m128.8/128.8 kB\u001b[0m \u001b[31m1.5 MB/s\u001b[0m eta \u001b[36m0:00:00\u001b[0m\n",
            "\u001b[?25h  Preparing metadata (setup.py) ... \u001b[?25l\u001b[?25hdone\n",
            "Requirement already satisfied: python-dateutil>=2.8.2 in /usr/local/lib/python3.10/dist-packages (from pandas) (2.8.2)\n",
            "Requirement already satisfied: pytz>=2020.1 in /usr/local/lib/python3.10/dist-packages (from pandas) (2023.4)\n",
            "Requirement already satisfied: tzdata>=2022.1 in /usr/local/lib/python3.10/dist-packages (from pandas) (2024.1)\n",
            "Requirement already satisfied: numpy>=1.21.0 in /usr/local/lib/python3.10/dist-packages (from pandas) (1.25.2)\n",
            "Requirement already satisfied: Pillow in /usr/local/lib/python3.10/dist-packages (from rdkit) (9.4.0)\n",
            "Requirement already satisfied: six==1.* in /usr/local/lib/python3.10/dist-packages (from mordred) (1.16.0)\n",
            "Collecting networkx==2.* (from mordred)\n",
            "  Downloading networkx-2.8.8-py3-none-any.whl (2.0 MB)\n",
            "\u001b[2K     \u001b[90m━━━━━━━━━━━━━━━━━━━━━━━━━━━━━━━━━━━━━━━━\u001b[0m \u001b[32m2.0/2.0 MB\u001b[0m \u001b[31m1.4 MB/s\u001b[0m eta \u001b[36m0:00:00\u001b[0m\n",
            "\u001b[?25hBuilding wheels for collected packages: pubchempy, mordred\n",
            "  Building wheel for pubchempy (setup.py) ... \u001b[?25l\u001b[?25hdone\n",
            "  Created wheel for pubchempy: filename=PubChemPy-1.0.4-py3-none-any.whl size=13820 sha256=3081ce80ef77c0b5a688371f8887da8f301b53929d3dc7aab2fbc83aacb12cd5\n",
            "  Stored in directory: /root/.cache/pip/wheels/90/7c/45/18a0671e3c3316966ef7ed9ad2b3f3300a7e41d3421a44e799\n",
            "  Building wheel for mordred (setup.py) ... \u001b[?25l\u001b[?25hdone\n",
            "  Created wheel for mordred: filename=mordred-1.2.0-py3-none-any.whl size=176720 sha256=1a4e6fd7196002dbebe3758b635f62f6302e782fb6c2c7ca47f626f05b39e737\n",
            "  Stored in directory: /root/.cache/pip/wheels/a7/4f/b8/d4c6591f6ac944aaced7865b349477695f662388ad958743c7\n",
            "Successfully built pubchempy mordred\n",
            "Installing collected packages: pubchempy, rdkit, networkx, mordred\n",
            "  Attempting uninstall: networkx\n",
            "    Found existing installation: networkx 3.2.1\n",
            "    Uninstalling networkx-3.2.1:\n",
            "      Successfully uninstalled networkx-3.2.1\n",
            "\u001b[31mERROR: pip's dependency resolver does not currently take into account all the packages that are installed. This behaviour is the source of the following dependency conflicts.\n",
            "torch 2.2.1+cu121 requires nvidia-cublas-cu12==12.1.3.1; platform_system == \"Linux\" and platform_machine == \"x86_64\", which is not installed.\n",
            "torch 2.2.1+cu121 requires nvidia-cuda-cupti-cu12==12.1.105; platform_system == \"Linux\" and platform_machine == \"x86_64\", which is not installed.\n",
            "torch 2.2.1+cu121 requires nvidia-cuda-nvrtc-cu12==12.1.105; platform_system == \"Linux\" and platform_machine == \"x86_64\", which is not installed.\n",
            "torch 2.2.1+cu121 requires nvidia-cuda-runtime-cu12==12.1.105; platform_system == \"Linux\" and platform_machine == \"x86_64\", which is not installed.\n",
            "torch 2.2.1+cu121 requires nvidia-cudnn-cu12==8.9.2.26; platform_system == \"Linux\" and platform_machine == \"x86_64\", which is not installed.\n",
            "torch 2.2.1+cu121 requires nvidia-cufft-cu12==11.0.2.54; platform_system == \"Linux\" and platform_machine == \"x86_64\", which is not installed.\n",
            "torch 2.2.1+cu121 requires nvidia-curand-cu12==10.3.2.106; platform_system == \"Linux\" and platform_machine == \"x86_64\", which is not installed.\n",
            "torch 2.2.1+cu121 requires nvidia-cusolver-cu12==11.4.5.107; platform_system == \"Linux\" and platform_machine == \"x86_64\", which is not installed.\n",
            "torch 2.2.1+cu121 requires nvidia-cusparse-cu12==12.1.0.106; platform_system == \"Linux\" and platform_machine == \"x86_64\", which is not installed.\n",
            "torch 2.2.1+cu121 requires nvidia-nccl-cu12==2.19.3; platform_system == \"Linux\" and platform_machine == \"x86_64\", which is not installed.\n",
            "torch 2.2.1+cu121 requires nvidia-nvtx-cu12==12.1.105; platform_system == \"Linux\" and platform_machine == \"x86_64\", which is not installed.\u001b[0m\u001b[31m\n",
            "\u001b[0mSuccessfully installed mordred-1.2.0 networkx-2.8.8 pubchempy-1.0.4 rdkit-2023.9.5\n"
          ]
        }
      ]
    },
    {
      "cell_type": "code",
      "execution_count": 2,
      "metadata": {
        "id": "lfkI1rZJSBWq"
      },
      "outputs": [],
      "source": [
        "import pandas as pd\n",
        "from rdkit import Chem\n",
        "from rdkit.Chem import Descriptors\n",
        "from mordred import Calculator, descriptors\n",
        "import pubchempy as pcp\n",
        "from sklearn.feature_selection import VarianceThreshold\n",
        "from sklearn.feature_selection import SelectKBest\n",
        "from sklearn.feature_selection import f_regression, mutual_info_regression"
      ]
    },
    {
      "cell_type": "code",
      "source": [
        "# Функция для загрузки дескрипторов из PubChem\n",
        "def get_pubchem_descriptors(smiles):\n",
        "    try:\n",
        "        compound = pcp.get_compounds(smiles, 'smiles')\n",
        "        cid = compound[0].cid\n",
        "        properties = pcp.get_properties('property', cid)\n",
        "        descriptors = {prop['Name']: prop['Value'] for prop in properties[0]}\n",
        "        return descriptors\n",
        "    except Exception as e:\n",
        "        print(f\"Error fetching descriptors for SMILES {smiles}: {e}\")\n",
        "        return None"
      ],
      "metadata": {
        "id": "TVMJe3a7cOEU"
      },
      "execution_count": 3,
      "outputs": []
    },
    {
      "cell_type": "code",
      "source": [
        "# # Функция для получения дополнительных дескрипторов из PubChem\n",
        "# def get_additional_pubchem_descriptors(smiles):\n",
        "#     try:\n",
        "#         # Ваши операции для получения дополнительных дескрипторов из PubChem\n",
        "#         pass\n",
        "#     except Exception as e:\n",
        "#         print(f\"Error fetching additional descriptors for SMILES {smiles}: {e}\")\n",
        "#         return None"
      ],
      "metadata": {
        "id": "S17aFR4rhd1q"
      },
      "execution_count": 4,
      "outputs": []
    },
    {
      "cell_type": "code",
      "source": [
        "# Функция для вычисления дескрипторов с помощью Mordred\n",
        "def calculate_mordred_descriptors(smiles):\n",
        "    try:\n",
        "        molecule = Chem.MolFromSmiles(smiles)\n",
        "        if molecule is None:\n",
        "            return None\n",
        "        calc = Calculator(descriptors)\n",
        "        descriptors = calc(molecule)\n",
        "        return descriptors.asdict()\n",
        "    except Exception as e:\n",
        "        print(f\"Error calculating Mordred descriptors for SMILES {smiles}: {e}\")\n",
        "        return None"
      ],
      "metadata": {
        "id": "vVrt8KVqcVZs"
      },
      "execution_count": 5,
      "outputs": []
    },
    {
      "cell_type": "code",
      "source": [
        "df = pd.read_csv(\"qm9_new.csv\")"
      ],
      "metadata": {
        "id": "-cWayDHvh6ZM"
      },
      "execution_count": 6,
      "outputs": []
    },
    {
      "cell_type": "code",
      "source": [
        "df.info()"
      ],
      "metadata": {
        "colab": {
          "base_uri": "https://localhost:8080/"
        },
        "id": "12RTm3HkiK9G",
        "outputId": "14bda087-f3ed-4d7a-b40c-79a85eabb317"
      },
      "execution_count": 7,
      "outputs": [
        {
          "output_type": "stream",
          "name": "stdout",
          "text": [
            "<class 'pandas.core.frame.DataFrame'>\n",
            "RangeIndex: 20000 entries, 0 to 19999\n",
            "Data columns (total 17 columns):\n",
            " #   Column  Non-Null Count  Dtype  \n",
            "---  ------  --------------  -----  \n",
            " 0   mol_id  20000 non-null  object \n",
            " 1   smiles  20000 non-null  object \n",
            " 2   A       20000 non-null  float64\n",
            " 3   B       20000 non-null  float64\n",
            " 4   C       20000 non-null  float64\n",
            " 5   mu      20000 non-null  float64\n",
            " 6   alpha   20000 non-null  float64\n",
            " 7   homo    20000 non-null  float64\n",
            " 8   lumo    20000 non-null  float64\n",
            " 9   gap     20000 non-null  float64\n",
            " 10  r2      20000 non-null  float64\n",
            " 11  zpve    20000 non-null  float64\n",
            " 12  u0      20000 non-null  float64\n",
            " 13  u298    20000 non-null  float64\n",
            " 14  h298    20000 non-null  float64\n",
            " 15  g298    20000 non-null  float64\n",
            " 16  cv      20000 non-null  float64\n",
            "dtypes: float64(15), object(2)\n",
            "memory usage: 2.6+ MB\n"
          ]
        }
      ]
    },
    {
      "cell_type": "code",
      "source": [
        "# Выборка подмножества данных для тестирования\n",
        "df = df.head(100)"
      ],
      "metadata": {
        "id": "f2eixMp7h_es"
      },
      "execution_count": 8,
      "outputs": []
    },
    {
      "cell_type": "code",
      "source": [
        "# Вычисление дескрипторов с помощью Mordred\n",
        "df['mordred_descriptors'] = df['smiles'].apply(calculate_mordred_descriptors)"
      ],
      "metadata": {
        "colab": {
          "base_uri": "https://localhost:8080/"
        },
        "id": "yxJHuK8Iie18",
        "outputId": "a9af51ac-bcbd-4c5a-a1d4-46f5b614740d"
      },
      "execution_count": 9,
      "outputs": [
        {
          "output_type": "stream",
          "name": "stdout",
          "text": [
            "Error calculating Mordred descriptors for SMILES OC1C2OC(=N)C12C#C: local variable 'descriptors' referenced before assignment\n",
            "Error calculating Mordred descriptors for SMILES C1C2OC3C4C=CC13C24: local variable 'descriptors' referenced before assignment\n",
            "Error calculating Mordred descriptors for SMILES COC(=N)N1C=NN=C1: local variable 'descriptors' referenced before assignment\n",
            "Error calculating Mordred descriptors for SMILES O=C1CC(CN1)N1CC1: local variable 'descriptors' referenced before assignment\n",
            "Error calculating Mordred descriptors for SMILES CC1OC2COCC2O1: local variable 'descriptors' referenced before assignment\n",
            "Error calculating Mordred descriptors for SMILES COCC(=O)C(=O)OC: local variable 'descriptors' referenced before assignment\n",
            "Error calculating Mordred descriptors for SMILES C1C=CCC(=O)CC1=O: local variable 'descriptors' referenced before assignment\n",
            "Error calculating Mordred descriptors for SMILES NC1=CC(=O)C(CO)C1: local variable 'descriptors' referenced before assignment\n",
            "Error calculating Mordred descriptors for SMILES CC1N=COCCC1O: local variable 'descriptors' referenced before assignment\n",
            "Error calculating Mordred descriptors for SMILES CCC1OC1(C)C1CC1: local variable 'descriptors' referenced before assignment\n",
            "Error calculating Mordred descriptors for SMILES CN1C2C3CC1C(=O)C23: local variable 'descriptors' referenced before assignment\n",
            "Error calculating Mordred descriptors for SMILES CC12CC3C(CC1O)C23: local variable 'descriptors' referenced before assignment\n",
            "Error calculating Mordred descriptors for SMILES N#CC1NC2C3CC1C23: local variable 'descriptors' referenced before assignment\n",
            "Error calculating Mordred descriptors for SMILES CN1C2C3OC2C13C#C: local variable 'descriptors' referenced before assignment\n",
            "Error calculating Mordred descriptors for SMILES CC(O)C(=O)NC(N)=O: local variable 'descriptors' referenced before assignment\n",
            "Error calculating Mordred descriptors for SMILES CC(O)C1=NC(N)=CN1: local variable 'descriptors' referenced before assignment\n",
            "Error calculating Mordred descriptors for SMILES OC1CCC(C1)NC=O: local variable 'descriptors' referenced before assignment\n",
            "Error calculating Mordred descriptors for SMILES Cn1cc(c(n1)O)N: local variable 'descriptors' referenced before assignment\n",
            "Error calculating Mordred descriptors for SMILES C1CC2C=CC3NC23C1: local variable 'descriptors' referenced before assignment\n",
            "Error calculating Mordred descriptors for SMILES c1c(n[nH]n1)OCCO: local variable 'descriptors' referenced before assignment\n",
            "Error calculating Mordred descriptors for SMILES COC1OCC=CC1C: local variable 'descriptors' referenced before assignment\n",
            "Error calculating Mordred descriptors for SMILES COCCCC=O: local variable 'descriptors' referenced before assignment\n",
            "Error calculating Mordred descriptors for SMILES OC1C=C(C#N)C2CC12: local variable 'descriptors' referenced before assignment\n",
            "Error calculating Mordred descriptors for SMILES C1CC1C1CC1C1CO1: local variable 'descriptors' referenced before assignment\n",
            "Error calculating Mordred descriptors for SMILES CCC12COC3C1OC23: local variable 'descriptors' referenced before assignment\n",
            "Error calculating Mordred descriptors for SMILES Cc1c([nH]cc1O)C: local variable 'descriptors' referenced before assignment\n",
            "Error calculating Mordred descriptors for SMILES CNc1cc(n(n1)C)O: local variable 'descriptors' referenced before assignment\n",
            "Error calculating Mordred descriptors for SMILES OC12CCC1C(C2)C#N: local variable 'descriptors' referenced before assignment\n",
            "Error calculating Mordred descriptors for SMILES C#CC12NC1CN1CC21: local variable 'descriptors' referenced before assignment\n",
            "Error calculating Mordred descriptors for SMILES CC1(C)CN2CC12: local variable 'descriptors' referenced before assignment\n",
            "Error calculating Mordred descriptors for SMILES CC1=CCC(=O)OC1: local variable 'descriptors' referenced before assignment\n",
            "Error calculating Mordred descriptors for SMILES c1nc(nn1C=O)N: local variable 'descriptors' referenced before assignment\n",
            "Error calculating Mordred descriptors for SMILES c1c2c(no1)NCCN2: local variable 'descriptors' referenced before assignment\n",
            "Error calculating Mordred descriptors for SMILES CCC(C)C(C)(C)CC: local variable 'descriptors' referenced before assignment\n",
            "Error calculating Mordred descriptors for SMILES c1(c(n[nH]c(=O)n1)O)O: local variable 'descriptors' referenced before assignment\n",
            "Error calculating Mordred descriptors for SMILES CC1OC(=N)C=C1: local variable 'descriptors' referenced before assignment\n",
            "Error calculating Mordred descriptors for SMILES C1CC12CN(C2)CC=O: local variable 'descriptors' referenced before assignment\n",
            "Error calculating Mordred descriptors for SMILES CC1C2CC(C)(O)C12O: local variable 'descriptors' referenced before assignment\n",
            "Error calculating Mordred descriptors for SMILES CC(C)n1ccnc1: local variable 'descriptors' referenced before assignment\n",
            "Error calculating Mordred descriptors for SMILES CC1C2CC(=CC12)C#N: local variable 'descriptors' referenced before assignment\n",
            "Error calculating Mordred descriptors for SMILES CC1NC1(C=O)C(N)=O: local variable 'descriptors' referenced before assignment\n",
            "Error calculating Mordred descriptors for SMILES O=C1NC(C#C)C2OC12: local variable 'descriptors' referenced before assignment\n",
            "Error calculating Mordred descriptors for SMILES OCC1C=CCC1C#N: local variable 'descriptors' referenced before assignment\n",
            "Error calculating Mordred descriptors for SMILES CC(=O)C12OC1C1CC21: local variable 'descriptors' referenced before assignment\n",
            "Error calculating Mordred descriptors for SMILES O=CNC(C#N)C1CN1: local variable 'descriptors' referenced before assignment\n",
            "Error calculating Mordred descriptors for SMILES O=CC12CC3C1C1C2N31: local variable 'descriptors' referenced before assignment\n",
            "Error calculating Mordred descriptors for SMILES CCC1(C#N)C(C)C1O: local variable 'descriptors' referenced before assignment\n",
            "Error calculating Mordred descriptors for SMILES CN=C1C2(CC2)OCO1: local variable 'descriptors' referenced before assignment\n",
            "Error calculating Mordred descriptors for SMILES CNC1=NC(CN1)C#N: local variable 'descriptors' referenced before assignment\n",
            "Error calculating Mordred descriptors for SMILES OCC1C2OC2C1CO: local variable 'descriptors' referenced before assignment\n",
            "Error calculating Mordred descriptors for SMILES c1cc(=O)onc1F: local variable 'descriptors' referenced before assignment\n",
            "Error calculating Mordred descriptors for SMILES CC1COC1=NCC=O: local variable 'descriptors' referenced before assignment\n",
            "Error calculating Mordred descriptors for SMILES OC1CC2OCC12C#C: local variable 'descriptors' referenced before assignment\n",
            "Error calculating Mordred descriptors for SMILES CNc1cc(no1)N: local variable 'descriptors' referenced before assignment\n",
            "Error calculating Mordred descriptors for SMILES N=C1NC(C=O)C11CO1: local variable 'descriptors' referenced before assignment\n",
            "Error calculating Mordred descriptors for SMILES C#CC12CC1OCCC2: local variable 'descriptors' referenced before assignment\n",
            "Error calculating Mordred descriptors for SMILES O=C1OCC11NC2CC12: local variable 'descriptors' referenced before assignment\n",
            "Error calculating Mordred descriptors for SMILES CC12CCN1C1CC21O: local variable 'descriptors' referenced before assignment\n",
            "Error calculating Mordred descriptors for SMILES C#CC1=CCC2OCC12: local variable 'descriptors' referenced before assignment\n",
            "Error calculating Mordred descriptors for SMILES CC1C(CCC=O)N1C: local variable 'descriptors' referenced before assignment\n",
            "Error calculating Mordred descriptors for SMILES OCC1OC1C#CC=O: local variable 'descriptors' referenced before assignment\n",
            "Error calculating Mordred descriptors for SMILES CC12CC3OCC1(O)C23: local variable 'descriptors' referenced before assignment\n",
            "Error calculating Mordred descriptors for SMILES O=C(C#C)C1C2CN1C2: local variable 'descriptors' referenced before assignment\n",
            "Error calculating Mordred descriptors for SMILES CC1CC2(CN2C)C1O: local variable 'descriptors' referenced before assignment\n",
            "Error calculating Mordred descriptors for SMILES C1CC23OC4C2OC1C34: local variable 'descriptors' referenced before assignment\n",
            "Error calculating Mordred descriptors for SMILES CC1=CC2(CO2)CC1O: local variable 'descriptors' referenced before assignment\n",
            "Error calculating Mordred descriptors for SMILES O=C1CC2OC=NC12: local variable 'descriptors' referenced before assignment\n",
            "Error calculating Mordred descriptors for SMILES Cc1coc(=O)n1C: local variable 'descriptors' referenced before assignment\n",
            "Error calculating Mordred descriptors for SMILES O=CC(=O)C1OCC=C1: local variable 'descriptors' referenced before assignment\n",
            "Error calculating Mordred descriptors for SMILES CC12CC3C4C1C2(C)N34: local variable 'descriptors' referenced before assignment\n",
            "Error calculating Mordred descriptors for SMILES CCCC(CC#N)C=O: local variable 'descriptors' referenced before assignment\n",
            "Error calculating Mordred descriptors for SMILES c1cnc(nc1)CO: local variable 'descriptors' referenced before assignment\n",
            "Error calculating Mordred descriptors for SMILES C#CC1=CCOCC1: local variable 'descriptors' referenced before assignment\n",
            "Error calculating Mordred descriptors for SMILES C1CC(=O)CNCC1=O: local variable 'descriptors' referenced before assignment\n",
            "Error calculating Mordred descriptors for SMILES CN1CC(=O)C2(CO2)C1: local variable 'descriptors' referenced before assignment\n",
            "Error calculating Mordred descriptors for SMILES c1c(cc(nc1O)O)N: local variable 'descriptors' referenced before assignment\n",
            "Error calculating Mordred descriptors for SMILES OCC1OCC=C1: local variable 'descriptors' referenced before assignment\n",
            "Error calculating Mordred descriptors for SMILES CC(C([O-])=O)C(C)(C)[NH3+]: local variable 'descriptors' referenced before assignment\n",
            "Error calculating Mordred descriptors for SMILES CC(C)(O)C1CC1CO: local variable 'descriptors' referenced before assignment\n",
            "Error calculating Mordred descriptors for SMILES CC1C=CC(C#N)C1O: local variable 'descriptors' referenced before assignment\n",
            "Error calculating Mordred descriptors for SMILES C#CC1OC11CC2CC12: local variable 'descriptors' referenced before assignment\n",
            "Error calculating Mordred descriptors for SMILES CC(C)C1(COC1)C: local variable 'descriptors' referenced before assignment\n",
            "Error calculating Mordred descriptors for SMILES CC1C2OCC3CC2C13: local variable 'descriptors' referenced before assignment\n",
            "Error calculating Mordred descriptors for SMILES CC1(COC1=N)C1CN1: local variable 'descriptors' referenced before assignment\n",
            "Error calculating Mordred descriptors for SMILES CCn1cc(c(n1)N)N: local variable 'descriptors' referenced before assignment\n",
            "Error calculating Mordred descriptors for SMILES c1c2c(n[nH]1)CN=C2N: local variable 'descriptors' referenced before assignment\n",
            "Error calculating Mordred descriptors for SMILES CC(CC#N)C(C)C#N: local variable 'descriptors' referenced before assignment\n",
            "Error calculating Mordred descriptors for SMILES C1C(CO1)OCCC=O: local variable 'descriptors' referenced before assignment\n",
            "Error calculating Mordred descriptors for SMILES O=COCC1OC1C#N: local variable 'descriptors' referenced before assignment\n",
            "Error calculating Mordred descriptors for SMILES C1CC2CCC3C1C3C2: local variable 'descriptors' referenced before assignment\n",
            "Error calculating Mordred descriptors for SMILES CCC1(OC1C=O)C=O: local variable 'descriptors' referenced before assignment\n",
            "Error calculating Mordred descriptors for SMILES CC1C(N)C(=O)N1C=O: local variable 'descriptors' referenced before assignment\n",
            "Error calculating Mordred descriptors for SMILES CCCOC=O: local variable 'descriptors' referenced before assignment\n",
            "Error calculating Mordred descriptors for SMILES OCC12OC3CC1NC23: local variable 'descriptors' referenced before assignment\n",
            "Error calculating Mordred descriptors for SMILES CC1=C2CC3C(OC1)C23: local variable 'descriptors' referenced before assignment\n",
            "Error calculating Mordred descriptors for SMILES CC1(OCCC1O)C=O: local variable 'descriptors' referenced before assignment\n",
            "Error calculating Mordred descriptors for SMILES O=CC(=O)C1CC1C#N: local variable 'descriptors' referenced before assignment\n",
            "Error calculating Mordred descriptors for SMILES OC1(CC1)C1CC2OC12: local variable 'descriptors' referenced before assignment\n",
            "Error calculating Mordred descriptors for SMILES OCC1N2CC2CC1=O: local variable 'descriptors' referenced before assignment\n",
            "Error calculating Mordred descriptors for SMILES O=C1CC23CC2(CO3)O1: local variable 'descriptors' referenced before assignment\n"
          ]
        }
      ]
    },
    {
      "cell_type": "code",
      "source": [
        "from mordred import descriptors\n",
        "\n",
        "# Создание калькулятора с использованием всех дескрипторов из Mordred\n",
        "calc = Calculator(descriptors)\n",
        "\n",
        "# Генератор списка для вычисления дескрипторов для каждой молекулы\n",
        "molecules = [Chem.MolFromSmiles(smiles) for smiles in df['smiles']]\n",
        "\n",
        "# Объединение исходного DataFrame с дескрипторами\n",
        "df_with_descriptors = calc.pandas(molecules)"
      ],
      "metadata": {
        "colab": {
          "base_uri": "https://localhost:8080/"
        },
        "id": "oHFsMOixim3e",
        "outputId": "9e91fb3d-28c8-42dd-cba7-e64d0ef5676b"
      },
      "execution_count": 10,
      "outputs": [
        {
          "output_type": "stream",
          "name": "stderr",
          "text": [
            "100%|██████████| 100/100 [00:09<00:00, 10.58it/s]\n"
          ]
        }
      ]
    },
    {
      "cell_type": "code",
      "source": [
        "num_rows, num_columns = df.shape\n",
        "print(df.head())"
      ],
      "metadata": {
        "colab": {
          "base_uri": "https://localhost:8080/"
        },
        "id": "NDPM3atCi5cp",
        "outputId": "046ad403-ba7f-4cb7-90b3-5ab7ff42859d"
      },
      "execution_count": 11,
      "outputs": [
        {
          "output_type": "stream",
          "name": "stdout",
          "text": [
            "       mol_id              smiles        A        B        C      mu  alpha  \\\n",
            "0   gdb_80215   OC1C2OC(=N)C12C#C  2.30911  1.61767  1.19613  2.3968  71.38   \n",
            "1   gdb_38562  C1C2OC3C4C=CC13C24  3.62779  2.04768  1.72903  1.3033  75.21   \n",
            "2  gdb_128434    COC(=N)N1C=NN=C1  4.59666  1.11509  0.90251  4.6009  68.56   \n",
            "3   gdb_46047    O=C1CC(CN1)N1CC1  4.51768  0.96556  0.82880  4.0801  76.78   \n",
            "4   gdb_92629       CC1OC2COCC2O1  2.61928  1.61948  1.55335  1.2958  70.36   \n",
            "\n",
            "     homo    lumo     gap         r2      zpve          u0        u298  \\\n",
            "0 -0.2467 -0.0006  0.2461  1037.3102  0.098952 -436.608941 -436.600959   \n",
            "1 -0.2190  0.0061  0.2251   817.0529  0.138958 -384.614538 -384.608953   \n",
            "2 -0.2660 -0.0334  0.2325  1220.8171  0.113877 -450.138295 -450.130258   \n",
            "3 -0.2380  0.0362  0.2742  1365.3572  0.161073 -419.221121 -419.212883   \n",
            "4 -0.2408  0.0839  0.3247   980.1780  0.160888 -460.175337 -460.167671   \n",
            "\n",
            "         h298        g298      cv mordred_descriptors  \n",
            "0 -436.600015 -436.641349  30.459                None  \n",
            "1 -384.608009 -384.643988  25.205                None  \n",
            "2 -450.129314 -450.172466  28.251                None  \n",
            "3 -419.211939 -419.254484  31.115                None  \n",
            "4 -460.166727 -460.207765  29.594                None  \n"
          ]
        }
      ]
    },
    {
      "cell_type": "code",
      "source": [
        "print(num_rows, num_columns)"
      ],
      "metadata": {
        "colab": {
          "base_uri": "https://localhost:8080/"
        },
        "id": "QyU2OoLzjnVk",
        "outputId": "3d587064-4747-4a99-d7e8-c9a44ffbcd18"
      },
      "execution_count": 12,
      "outputs": [
        {
          "output_type": "stream",
          "name": "stdout",
          "text": [
            "100 18\n"
          ]
        }
      ]
    },
    {
      "cell_type": "code",
      "source": [
        "#соеденим с нашим датасетом по smiles\n",
        "merged_df = pd.concat([df, df_with_descriptors], axis=1)"
      ],
      "metadata": {
        "id": "Ssph2UjGgc00"
      },
      "execution_count": 13,
      "outputs": []
    },
    {
      "cell_type": "code",
      "source": [
        "df = merged_df"
      ],
      "metadata": {
        "id": "LhgRPzZLgjrw"
      },
      "execution_count": 14,
      "outputs": []
    },
    {
      "cell_type": "code",
      "source": [
        "num_rows, num_columns = merged_df.shape\n",
        "print(num_rows, num_columns)"
      ],
      "metadata": {
        "colab": {
          "base_uri": "https://localhost:8080/"
        },
        "id": "veSpAUdAgpen",
        "outputId": "31fc1f22-d78f-4e5b-fdbe-baf73cbd79cc"
      },
      "execution_count": 15,
      "outputs": [
        {
          "output_type": "stream",
          "name": "stdout",
          "text": [
            "100 1844\n"
          ]
        }
      ]
    },
    {
      "cell_type": "code",
      "source": [
        "print(merged_df.head())"
      ],
      "metadata": {
        "colab": {
          "base_uri": "https://localhost:8080/"
        },
        "id": "XsNvStGokFLz",
        "outputId": "345f1b10-c850-47cc-9096-e2c79adc5fae"
      },
      "execution_count": 16,
      "outputs": [
        {
          "output_type": "stream",
          "name": "stdout",
          "text": [
            "       mol_id              smiles        A        B        C      mu  alpha  \\\n",
            "0   gdb_80215   OC1C2OC(=N)C12C#C  2.30911  1.61767  1.19613  2.3968  71.38   \n",
            "1   gdb_38562  C1C2OC3C4C=CC13C24  3.62779  2.04768  1.72903  1.3033  75.21   \n",
            "2  gdb_128434    COC(=N)N1C=NN=C1  4.59666  1.11509  0.90251  4.6009  68.56   \n",
            "3   gdb_46047    O=C1CC(CN1)N1CC1  4.51768  0.96556  0.82880  4.0801  76.78   \n",
            "4   gdb_92629       CC1OC2COCC2O1  2.61928  1.61948  1.55335  1.2958  70.36   \n",
            "\n",
            "     homo    lumo     gap  ...      SRW10     TSRW10          MW       AMW  \\\n",
            "0 -0.2467 -0.0006  0.2461  ...  10.202147  63.238281  123.032028  8.788002   \n",
            "1 -0.2190  0.0061  0.2251  ...  10.679251  62.435261  120.057515  7.062207   \n",
            "2 -0.2660 -0.0334  0.2325  ...   8.520986  50.281704  126.054161  8.403611   \n",
            "3 -0.2380  0.0362  0.2742  ...   8.993552  57.938858  126.079313  6.635753   \n",
            "4 -0.2408  0.0839  0.3247  ...   8.969669  54.291600  130.062994  6.845421   \n",
            "\n",
            "   WPath  WPol  Zagreb1 Zagreb2  mZagreb1  mZagreb2  \n",
            "0     80    10     54.0    73.0  3.895833  1.986111  \n",
            "1     66     6     68.0    95.0  1.506944  1.666667  \n",
            "2     89     8     40.0    44.0  3.472222  2.194444  \n",
            "3     86     8     48.0    56.0  2.583333  1.944444  \n",
            "4     79     8     48.0    56.0  2.583333  1.944444  \n",
            "\n",
            "[5 rows x 1844 columns]\n"
          ]
        }
      ]
    },
    {
      "cell_type": "code",
      "source": [
        "# Вычисление дескрипторов с помощью PubChem\n",
        "df['pubchem_descriptors'] = df['smiles'].apply(get_pubchem_descriptors)"
      ],
      "metadata": {
        "colab": {
          "base_uri": "https://localhost:8080/"
        },
        "id": "Y4KaNLj9lJvb",
        "outputId": "1e05246c-cc69-429a-de80-84c40ca52d2d"
      },
      "execution_count": 17,
      "outputs": [
        {
          "output_type": "stream",
          "name": "stdout",
          "text": [
            "Error fetching descriptors for SMILES OC1C2OC(=N)C12C#C: identifier/cid cannot be None\n",
            "Error fetching descriptors for SMILES C1C2OC3C4C=CC13C24: identifier/cid cannot be None\n",
            "Error fetching descriptors for SMILES COC(=N)N1C=NN=C1: identifier/cid cannot be None\n",
            "Error fetching descriptors for SMILES O=C1CC(CN1)N1CC1: identifier/cid cannot be None\n",
            "Error fetching descriptors for SMILES CC1OC2COCC2O1: 'PUGREST.BadRequest'\n",
            "Error fetching descriptors for SMILES COCC(=O)C(=O)OC: 'PUGREST.BadRequest'\n",
            "Error fetching descriptors for SMILES C1C=CCC(=O)CC1=O: 'PUGREST.BadRequest'\n",
            "Error fetching descriptors for SMILES NC1=CC(=O)C(CO)C1: identifier/cid cannot be None\n",
            "Error fetching descriptors for SMILES CC1N=COCCC1O: identifier/cid cannot be None\n",
            "Error fetching descriptors for SMILES CCC1OC1(C)C1CC1: identifier/cid cannot be None\n",
            "Error fetching descriptors for SMILES CN1C2C3CC1C(=O)C23: identifier/cid cannot be None\n",
            "Error fetching descriptors for SMILES CC12CC3C(CC1O)C23: identifier/cid cannot be None\n",
            "Error fetching descriptors for SMILES N#CC1NC2C3CC1C23: identifier/cid cannot be None\n",
            "Error fetching descriptors for SMILES CN1C2C3OC2C13C#C: identifier/cid cannot be None\n",
            "Error fetching descriptors for SMILES CC(O)C(=O)NC(N)=O: 'PUGREST.BadRequest'\n",
            "Error fetching descriptors for SMILES CC(O)C1=NC(N)=CN1: identifier/cid cannot be None\n",
            "Error fetching descriptors for SMILES OC1CCC(C1)NC=O: 'PUGREST.BadRequest'\n",
            "Error fetching descriptors for SMILES Cn1cc(c(n1)O)N: 'PUGREST.BadRequest'\n",
            "Error fetching descriptors for SMILES C1CC2C=CC3NC23C1: identifier/cid cannot be None\n",
            "Error fetching descriptors for SMILES c1c(n[nH]n1)OCCO: 'PUGREST.BadRequest'\n",
            "Error fetching descriptors for SMILES COC1OCC=CC1C: 'PUGREST.BadRequest'\n",
            "Error fetching descriptors for SMILES COCCCC=O: 'PUGREST.BadRequest'\n",
            "Error fetching descriptors for SMILES OC1C=C(C#N)C2CC12: identifier/cid cannot be None\n",
            "Error fetching descriptors for SMILES C1CC1C1CC1C1CO1: identifier/cid cannot be None\n",
            "Error fetching descriptors for SMILES CCC12COC3C1OC23: identifier/cid cannot be None\n",
            "Error fetching descriptors for SMILES Cc1c([nH]cc1O)C: 'PUGREST.BadRequest'\n",
            "Error fetching descriptors for SMILES CNc1cc(n(n1)C)O: 'PUGREST.BadRequest'\n",
            "Error fetching descriptors for SMILES OC12CCC1C(C2)C#N: identifier/cid cannot be None\n",
            "Error fetching descriptors for SMILES C#CC12NC1CN1CC21: identifier/cid cannot be None\n",
            "Error fetching descriptors for SMILES CC1(C)CN2CC12: 'PUGREST.BadRequest'\n",
            "Error fetching descriptors for SMILES CC1=CCC(=O)OC1: 'PUGREST.BadRequest'\n",
            "Error fetching descriptors for SMILES c1nc(nn1C=O)N: 'PUGREST.BadRequest'\n",
            "Error fetching descriptors for SMILES c1c2c(no1)NCCN2: 'PUGREST.BadRequest'\n",
            "Error fetching descriptors for SMILES CCC(C)C(C)(C)CC: 'PUGREST.BadRequest'\n",
            "Error fetching descriptors for SMILES c1(c(n[nH]c(=O)n1)O)O: 'PUGREST.BadRequest'\n",
            "Error fetching descriptors for SMILES CC1OC(=N)C=C1: identifier/cid cannot be None\n",
            "Error fetching descriptors for SMILES C1CC12CN(C2)CC=O: identifier/cid cannot be None\n",
            "Error fetching descriptors for SMILES CC1C2CC(C)(O)C12O: identifier/cid cannot be None\n",
            "Error fetching descriptors for SMILES CC(C)n1ccnc1: 'PUGREST.BadRequest'\n",
            "Error fetching descriptors for SMILES CC1C2CC(=CC12)C#N: identifier/cid cannot be None\n",
            "Error fetching descriptors for SMILES CC1NC1(C=O)C(N)=O: identifier/cid cannot be None\n",
            "Error fetching descriptors for SMILES O=C1NC(C#C)C2OC12: identifier/cid cannot be None\n",
            "Error fetching descriptors for SMILES OCC1C=CCC1C#N: identifier/cid cannot be None\n",
            "Error fetching descriptors for SMILES CC(=O)C12OC1C1CC21: identifier/cid cannot be None\n",
            "Error fetching descriptors for SMILES O=CNC(C#N)C1CN1: identifier/cid cannot be None\n",
            "Error fetching descriptors for SMILES O=CC12CC3C1C1C2N31: identifier/cid cannot be None\n",
            "Error fetching descriptors for SMILES CCC1(C#N)C(C)C1O: identifier/cid cannot be None\n",
            "Error fetching descriptors for SMILES CN=C1C2(CC2)OCO1: identifier/cid cannot be None\n",
            "Error fetching descriptors for SMILES CNC1=NC(CN1)C#N: identifier/cid cannot be None\n",
            "Error fetching descriptors for SMILES OCC1C2OC2C1CO: 'PUGREST.BadRequest'\n",
            "Error fetching descriptors for SMILES c1cc(=O)onc1F: identifier/cid cannot be None\n",
            "Error fetching descriptors for SMILES CC1COC1=NCC=O: identifier/cid cannot be None\n",
            "Error fetching descriptors for SMILES OC1CC2OCC12C#C: identifier/cid cannot be None\n",
            "Error fetching descriptors for SMILES CNc1cc(no1)N: 'PUGREST.BadRequest'\n",
            "Error fetching descriptors for SMILES N=C1NC(C=O)C11CO1: identifier/cid cannot be None\n",
            "Error fetching descriptors for SMILES C#CC12CC1OCCC2: identifier/cid cannot be None\n",
            "Error fetching descriptors for SMILES O=C1OCC11NC2CC12: identifier/cid cannot be None\n",
            "Error fetching descriptors for SMILES CC12CCN1C1CC21O: identifier/cid cannot be None\n",
            "Error fetching descriptors for SMILES C#CC1=CCC2OCC12: identifier/cid cannot be None\n",
            "Error fetching descriptors for SMILES CC1C(CCC=O)N1C: identifier/cid cannot be None\n",
            "Error fetching descriptors for SMILES OCC1OC1C#CC=O: identifier/cid cannot be None\n",
            "Error fetching descriptors for SMILES CC12CC3OCC1(O)C23: identifier/cid cannot be None\n",
            "Error fetching descriptors for SMILES O=C(C#C)C1C2CN1C2: identifier/cid cannot be None\n",
            "Error fetching descriptors for SMILES CC1CC2(CN2C)C1O: identifier/cid cannot be None\n",
            "Error fetching descriptors for SMILES C1CC23OC4C2OC1C34: identifier/cid cannot be None\n",
            "Error fetching descriptors for SMILES CC1=CC2(CO2)CC1O: identifier/cid cannot be None\n",
            "Error fetching descriptors for SMILES O=C1CC2OC=NC12: identifier/cid cannot be None\n",
            "Error fetching descriptors for SMILES Cc1coc(=O)n1C: 'PUGREST.BadRequest'\n",
            "Error fetching descriptors for SMILES O=CC(=O)C1OCC=C1: identifier/cid cannot be None\n",
            "Error fetching descriptors for SMILES CC12CC3C4C1C2(C)N34: identifier/cid cannot be None\n",
            "Error fetching descriptors for SMILES CCCC(CC#N)C=O: 'PUGREST.BadRequest'\n",
            "Error fetching descriptors for SMILES c1cnc(nc1)CO: 'PUGREST.BadRequest'\n",
            "Error fetching descriptors for SMILES C#CC1=CCOCC1: 'PUGREST.BadRequest'\n",
            "Error fetching descriptors for SMILES C1CC(=O)CNCC1=O: 'PUGREST.BadRequest'\n",
            "Error fetching descriptors for SMILES CN1CC(=O)C2(CO2)C1: identifier/cid cannot be None\n",
            "Error fetching descriptors for SMILES c1c(cc(nc1O)O)N: 'PUGREST.BadRequest'\n",
            "Error fetching descriptors for SMILES OCC1OCC=C1: 'PUGREST.BadRequest'\n",
            "Error fetching descriptors for SMILES CC(C([O-])=O)C(C)(C)[NH3+]: identifier/cid cannot be None\n",
            "Error fetching descriptors for SMILES CC(C)(O)C1CC1CO: identifier/cid cannot be None\n",
            "Error fetching descriptors for SMILES CC1C=CC(C#N)C1O: identifier/cid cannot be None\n",
            "Error fetching descriptors for SMILES C#CC1OC11CC2CC12: identifier/cid cannot be None\n",
            "Error fetching descriptors for SMILES CC(C)C1(COC1)C: 'PUGREST.BadRequest'\n",
            "Error fetching descriptors for SMILES CC1C2OCC3CC2C13: identifier/cid cannot be None\n",
            "Error fetching descriptors for SMILES CC1(COC1=N)C1CN1: identifier/cid cannot be None\n",
            "Error fetching descriptors for SMILES CCn1cc(c(n1)N)N: 'PUGREST.BadRequest'\n",
            "Error fetching descriptors for SMILES c1c2c(n[nH]1)CN=C2N: identifier/cid cannot be None\n",
            "Error fetching descriptors for SMILES CC(CC#N)C(C)C#N: 'PUGREST.BadRequest'\n",
            "Error fetching descriptors for SMILES C1C(CO1)OCCC=O: 'PUGREST.BadRequest'\n",
            "Error fetching descriptors for SMILES O=COCC1OC1C#N: identifier/cid cannot be None\n",
            "Error fetching descriptors for SMILES C1CC2CCC3C1C3C2: 'PUGREST.BadRequest'\n",
            "Error fetching descriptors for SMILES CCC1(OC1C=O)C=O: identifier/cid cannot be None\n",
            "Error fetching descriptors for SMILES CC1C(N)C(=O)N1C=O: identifier/cid cannot be None\n",
            "Error fetching descriptors for SMILES CCCOC=O: 'PUGREST.BadRequest'\n",
            "Error fetching descriptors for SMILES OCC12OC3CC1NC23: identifier/cid cannot be None\n",
            "Error fetching descriptors for SMILES CC1=C2CC3C(OC1)C23: identifier/cid cannot be None\n",
            "Error fetching descriptors for SMILES CC1(OCCC1O)C=O: identifier/cid cannot be None\n",
            "Error fetching descriptors for SMILES O=CC(=O)C1CC1C#N: identifier/cid cannot be None\n",
            "Error fetching descriptors for SMILES OC1(CC1)C1CC2OC12: identifier/cid cannot be None\n",
            "Error fetching descriptors for SMILES OCC1N2CC2CC1=O: identifier/cid cannot be None\n",
            "Error fetching descriptors for SMILES O=C1CC23CC2(CO3)O1: identifier/cid cannot be None\n"
          ]
        }
      ]
    },
    {
      "cell_type": "code",
      "source": [
        "# Получение дескрипторов из PubChem для каждой молекулы\n",
        "pubchem_descriptors = [get_pubchem_descriptors(smiles) for smiles in df['smiles']]"
      ],
      "metadata": {
        "colab": {
          "base_uri": "https://localhost:8080/"
        },
        "id": "KVDTiXuEffU0",
        "outputId": "268472c0-b07b-4d59-b849-afc71949918d"
      },
      "execution_count": 18,
      "outputs": [
        {
          "output_type": "stream",
          "name": "stdout",
          "text": [
            "Error fetching descriptors for SMILES OC1C2OC(=N)C12C#C: identifier/cid cannot be None\n",
            "Error fetching descriptors for SMILES C1C2OC3C4C=CC13C24: identifier/cid cannot be None\n",
            "Error fetching descriptors for SMILES COC(=N)N1C=NN=C1: identifier/cid cannot be None\n",
            "Error fetching descriptors for SMILES O=C1CC(CN1)N1CC1: identifier/cid cannot be None\n",
            "Error fetching descriptors for SMILES CC1OC2COCC2O1: 'PUGREST.BadRequest'\n",
            "Error fetching descriptors for SMILES COCC(=O)C(=O)OC: 'PUGREST.BadRequest'\n",
            "Error fetching descriptors for SMILES C1C=CCC(=O)CC1=O: 'PUGREST.BadRequest'\n",
            "Error fetching descriptors for SMILES NC1=CC(=O)C(CO)C1: identifier/cid cannot be None\n",
            "Error fetching descriptors for SMILES CC1N=COCCC1O: identifier/cid cannot be None\n",
            "Error fetching descriptors for SMILES CCC1OC1(C)C1CC1: identifier/cid cannot be None\n",
            "Error fetching descriptors for SMILES CN1C2C3CC1C(=O)C23: identifier/cid cannot be None\n",
            "Error fetching descriptors for SMILES CC12CC3C(CC1O)C23: identifier/cid cannot be None\n",
            "Error fetching descriptors for SMILES N#CC1NC2C3CC1C23: identifier/cid cannot be None\n",
            "Error fetching descriptors for SMILES CN1C2C3OC2C13C#C: identifier/cid cannot be None\n",
            "Error fetching descriptors for SMILES CC(O)C(=O)NC(N)=O: 'PUGREST.BadRequest'\n",
            "Error fetching descriptors for SMILES CC(O)C1=NC(N)=CN1: identifier/cid cannot be None\n",
            "Error fetching descriptors for SMILES OC1CCC(C1)NC=O: 'PUGREST.BadRequest'\n",
            "Error fetching descriptors for SMILES Cn1cc(c(n1)O)N: 'PUGREST.BadRequest'\n",
            "Error fetching descriptors for SMILES C1CC2C=CC3NC23C1: identifier/cid cannot be None\n",
            "Error fetching descriptors for SMILES c1c(n[nH]n1)OCCO: 'PUGREST.BadRequest'\n",
            "Error fetching descriptors for SMILES COC1OCC=CC1C: 'PUGREST.BadRequest'\n",
            "Error fetching descriptors for SMILES COCCCC=O: 'PUGREST.BadRequest'\n",
            "Error fetching descriptors for SMILES OC1C=C(C#N)C2CC12: identifier/cid cannot be None\n",
            "Error fetching descriptors for SMILES C1CC1C1CC1C1CO1: identifier/cid cannot be None\n",
            "Error fetching descriptors for SMILES CCC12COC3C1OC23: identifier/cid cannot be None\n",
            "Error fetching descriptors for SMILES Cc1c([nH]cc1O)C: 'PUGREST.BadRequest'\n",
            "Error fetching descriptors for SMILES CNc1cc(n(n1)C)O: 'PUGREST.BadRequest'\n",
            "Error fetching descriptors for SMILES OC12CCC1C(C2)C#N: identifier/cid cannot be None\n",
            "Error fetching descriptors for SMILES C#CC12NC1CN1CC21: identifier/cid cannot be None\n",
            "Error fetching descriptors for SMILES CC1(C)CN2CC12: 'PUGREST.BadRequest'\n",
            "Error fetching descriptors for SMILES CC1=CCC(=O)OC1: 'PUGREST.BadRequest'\n",
            "Error fetching descriptors for SMILES c1nc(nn1C=O)N: 'PUGREST.BadRequest'\n",
            "Error fetching descriptors for SMILES c1c2c(no1)NCCN2: 'PUGREST.BadRequest'\n",
            "Error fetching descriptors for SMILES CCC(C)C(C)(C)CC: 'PUGREST.BadRequest'\n",
            "Error fetching descriptors for SMILES c1(c(n[nH]c(=O)n1)O)O: 'PUGREST.BadRequest'\n",
            "Error fetching descriptors for SMILES CC1OC(=N)C=C1: identifier/cid cannot be None\n",
            "Error fetching descriptors for SMILES C1CC12CN(C2)CC=O: identifier/cid cannot be None\n",
            "Error fetching descriptors for SMILES CC1C2CC(C)(O)C12O: identifier/cid cannot be None\n",
            "Error fetching descriptors for SMILES CC(C)n1ccnc1: 'PUGREST.BadRequest'\n",
            "Error fetching descriptors for SMILES CC1C2CC(=CC12)C#N: identifier/cid cannot be None\n",
            "Error fetching descriptors for SMILES CC1NC1(C=O)C(N)=O: identifier/cid cannot be None\n",
            "Error fetching descriptors for SMILES O=C1NC(C#C)C2OC12: identifier/cid cannot be None\n",
            "Error fetching descriptors for SMILES OCC1C=CCC1C#N: identifier/cid cannot be None\n",
            "Error fetching descriptors for SMILES CC(=O)C12OC1C1CC21: identifier/cid cannot be None\n",
            "Error fetching descriptors for SMILES O=CNC(C#N)C1CN1: identifier/cid cannot be None\n",
            "Error fetching descriptors for SMILES O=CC12CC3C1C1C2N31: identifier/cid cannot be None\n",
            "Error fetching descriptors for SMILES CCC1(C#N)C(C)C1O: identifier/cid cannot be None\n",
            "Error fetching descriptors for SMILES CN=C1C2(CC2)OCO1: identifier/cid cannot be None\n",
            "Error fetching descriptors for SMILES CNC1=NC(CN1)C#N: identifier/cid cannot be None\n",
            "Error fetching descriptors for SMILES OCC1C2OC2C1CO: 'PUGREST.BadRequest'\n",
            "Error fetching descriptors for SMILES c1cc(=O)onc1F: identifier/cid cannot be None\n",
            "Error fetching descriptors for SMILES CC1COC1=NCC=O: identifier/cid cannot be None\n",
            "Error fetching descriptors for SMILES OC1CC2OCC12C#C: identifier/cid cannot be None\n",
            "Error fetching descriptors for SMILES CNc1cc(no1)N: 'PUGREST.BadRequest'\n",
            "Error fetching descriptors for SMILES N=C1NC(C=O)C11CO1: identifier/cid cannot be None\n",
            "Error fetching descriptors for SMILES C#CC12CC1OCCC2: identifier/cid cannot be None\n",
            "Error fetching descriptors for SMILES O=C1OCC11NC2CC12: identifier/cid cannot be None\n",
            "Error fetching descriptors for SMILES CC12CCN1C1CC21O: identifier/cid cannot be None\n",
            "Error fetching descriptors for SMILES C#CC1=CCC2OCC12: identifier/cid cannot be None\n",
            "Error fetching descriptors for SMILES CC1C(CCC=O)N1C: identifier/cid cannot be None\n",
            "Error fetching descriptors for SMILES OCC1OC1C#CC=O: identifier/cid cannot be None\n",
            "Error fetching descriptors for SMILES CC12CC3OCC1(O)C23: identifier/cid cannot be None\n",
            "Error fetching descriptors for SMILES O=C(C#C)C1C2CN1C2: identifier/cid cannot be None\n",
            "Error fetching descriptors for SMILES CC1CC2(CN2C)C1O: identifier/cid cannot be None\n",
            "Error fetching descriptors for SMILES C1CC23OC4C2OC1C34: identifier/cid cannot be None\n",
            "Error fetching descriptors for SMILES CC1=CC2(CO2)CC1O: identifier/cid cannot be None\n",
            "Error fetching descriptors for SMILES O=C1CC2OC=NC12: identifier/cid cannot be None\n",
            "Error fetching descriptors for SMILES Cc1coc(=O)n1C: 'PUGREST.BadRequest'\n",
            "Error fetching descriptors for SMILES O=CC(=O)C1OCC=C1: identifier/cid cannot be None\n",
            "Error fetching descriptors for SMILES CC12CC3C4C1C2(C)N34: identifier/cid cannot be None\n",
            "Error fetching descriptors for SMILES CCCC(CC#N)C=O: 'PUGREST.BadRequest'\n",
            "Error fetching descriptors for SMILES c1cnc(nc1)CO: 'PUGREST.BadRequest'\n",
            "Error fetching descriptors for SMILES C#CC1=CCOCC1: 'PUGREST.BadRequest'\n",
            "Error fetching descriptors for SMILES C1CC(=O)CNCC1=O: 'PUGREST.BadRequest'\n",
            "Error fetching descriptors for SMILES CN1CC(=O)C2(CO2)C1: identifier/cid cannot be None\n",
            "Error fetching descriptors for SMILES c1c(cc(nc1O)O)N: 'PUGREST.BadRequest'\n",
            "Error fetching descriptors for SMILES OCC1OCC=C1: 'PUGREST.BadRequest'\n",
            "Error fetching descriptors for SMILES CC(C([O-])=O)C(C)(C)[NH3+]: identifier/cid cannot be None\n",
            "Error fetching descriptors for SMILES CC(C)(O)C1CC1CO: identifier/cid cannot be None\n",
            "Error fetching descriptors for SMILES CC1C=CC(C#N)C1O: identifier/cid cannot be None\n",
            "Error fetching descriptors for SMILES C#CC1OC11CC2CC12: identifier/cid cannot be None\n",
            "Error fetching descriptors for SMILES CC(C)C1(COC1)C: 'PUGREST.BadRequest'\n",
            "Error fetching descriptors for SMILES CC1C2OCC3CC2C13: identifier/cid cannot be None\n",
            "Error fetching descriptors for SMILES CC1(COC1=N)C1CN1: identifier/cid cannot be None\n",
            "Error fetching descriptors for SMILES CCn1cc(c(n1)N)N: 'PUGREST.BadRequest'\n",
            "Error fetching descriptors for SMILES c1c2c(n[nH]1)CN=C2N: identifier/cid cannot be None\n",
            "Error fetching descriptors for SMILES CC(CC#N)C(C)C#N: 'PUGREST.BadRequest'\n",
            "Error fetching descriptors for SMILES C1C(CO1)OCCC=O: 'PUGREST.BadRequest'\n",
            "Error fetching descriptors for SMILES O=COCC1OC1C#N: identifier/cid cannot be None\n",
            "Error fetching descriptors for SMILES C1CC2CCC3C1C3C2: 'PUGREST.BadRequest'\n",
            "Error fetching descriptors for SMILES CCC1(OC1C=O)C=O: identifier/cid cannot be None\n",
            "Error fetching descriptors for SMILES CC1C(N)C(=O)N1C=O: identifier/cid cannot be None\n",
            "Error fetching descriptors for SMILES CCCOC=O: 'PUGREST.BadRequest'\n",
            "Error fetching descriptors for SMILES OCC12OC3CC1NC23: identifier/cid cannot be None\n",
            "Error fetching descriptors for SMILES CC1=C2CC3C(OC1)C23: identifier/cid cannot be None\n",
            "Error fetching descriptors for SMILES CC1(OCCC1O)C=O: identifier/cid cannot be None\n",
            "Error fetching descriptors for SMILES O=CC(=O)C1CC1C#N: identifier/cid cannot be None\n",
            "Error fetching descriptors for SMILES OC1(CC1)C1CC2OC12: identifier/cid cannot be None\n",
            "Error fetching descriptors for SMILES OCC1N2CC2CC1=O: identifier/cid cannot be None\n",
            "Error fetching descriptors for SMILES O=C1CC23CC2(CO3)O1: identifier/cid cannot be None\n"
          ]
        }
      ]
    },
    {
      "cell_type": "code",
      "source": [
        "# Объединение merged_df DataFrame с дескрипторами из PubChem\n",
        "df_with_pubchem_descriptors = pd.concat([merged_df, pd.DataFrame(pubchem_descriptors)], axis=1)"
      ],
      "metadata": {
        "id": "KrqGRLlRf2sb"
      },
      "execution_count": 19,
      "outputs": []
    },
    {
      "cell_type": "code",
      "source": [
        "# Вывод первых нескольких строк с дескрипторами из PubChem\n",
        "print(df_with_pubchem_descriptors.head())"
      ],
      "metadata": {
        "colab": {
          "base_uri": "https://localhost:8080/"
        },
        "id": "kTJS9MFNf707",
        "outputId": "bbac7ca0-2841-4151-9a1a-c29568b71628"
      },
      "execution_count": 20,
      "outputs": [
        {
          "output_type": "stream",
          "name": "stdout",
          "text": [
            "       mol_id              smiles        A        B        C      mu  alpha  \\\n",
            "0   gdb_80215   OC1C2OC(=N)C12C#C  2.30911  1.61767  1.19613  2.3968  71.38   \n",
            "1   gdb_38562  C1C2OC3C4C=CC13C24  3.62779  2.04768  1.72903  1.3033  75.21   \n",
            "2  gdb_128434    COC(=N)N1C=NN=C1  4.59666  1.11509  0.90251  4.6009  68.56   \n",
            "3   gdb_46047    O=C1CC(CN1)N1CC1  4.51768  0.96556  0.82880  4.0801  76.78   \n",
            "4   gdb_92629       CC1OC2COCC2O1  2.61928  1.61948  1.55335  1.2958  70.36   \n",
            "\n",
            "     homo    lumo     gap  ...          MW       AMW  WPath  WPol  Zagreb1  \\\n",
            "0 -0.2467 -0.0006  0.2461  ...  123.032028  8.788002     80    10     54.0   \n",
            "1 -0.2190  0.0061  0.2251  ...  120.057515  7.062207     66     6     68.0   \n",
            "2 -0.2660 -0.0334  0.2325  ...  126.054161  8.403611     89     8     40.0   \n",
            "3 -0.2380  0.0362  0.2742  ...  126.079313  6.635753     86     8     48.0   \n",
            "4 -0.2408  0.0839  0.3247  ...  130.062994  6.845421     79     8     48.0   \n",
            "\n",
            "   Zagreb2  mZagreb1  mZagreb2 pubchem_descriptors     0  \n",
            "0     73.0  3.895833  1.986111                None  None  \n",
            "1     95.0  1.506944  1.666667                None  None  \n",
            "2     44.0  3.472222  2.194444                None  None  \n",
            "3     56.0  2.583333  1.944444                None  None  \n",
            "4     56.0  2.583333  1.944444                None  None  \n",
            "\n",
            "[5 rows x 1846 columns]\n"
          ]
        }
      ]
    },
    {
      "cell_type": "markdown",
      "source": [
        "# Применение методов отбора признаков"
      ],
      "metadata": {
        "id": "W9o-EtaZnkMy"
      }
    },
    {
      "cell_type": "code",
      "source": [
        "# Метод отбора на основе корреляции Пирсона\n",
        "selector_pearson = SelectKBest(score_func=f_regression, k=500)"
      ],
      "metadata": {
        "id": "qhVLKolNnlW0"
      },
      "execution_count": 21,
      "outputs": []
    },
    {
      "cell_type": "code",
      "source": [
        "# Преобразование имен столбцов в строковый тип данных\n",
        "df_with_pubchem_descriptors.columns = df_with_pubchem_descriptors.columns.astype(str)"
      ],
      "metadata": {
        "id": "lZkexupLqJmx"
      },
      "execution_count": 22,
      "outputs": []
    },
    {
      "cell_type": "code",
      "source": [
        "print(df_with_pubchem_descriptors.dtypes.unique())"
      ],
      "metadata": {
        "colab": {
          "base_uri": "https://localhost:8080/"
        },
        "id": "Bkr9kKisqggq",
        "outputId": "6f59f4a6-c0c0-490e-d601-84234ac76000"
      },
      "execution_count": 23,
      "outputs": [
        {
          "output_type": "stream",
          "name": "stdout",
          "text": [
            "[dtype('O') dtype('float64') dtype('int64') dtype('bool')]\n"
          ]
        }
      ]
    },
    {
      "cell_type": "code",
      "source": [
        "# Удаление столбцов с типом данных 'O' (строковых столбцов)\n",
        "df_with_pubchem_descriptors_numeric = df_with_pubchem_descriptors.select_dtypes(exclude=['object'])"
      ],
      "metadata": {
        "id": "O_crfzreqn16"
      },
      "execution_count": 24,
      "outputs": []
    },
    {
      "cell_type": "code",
      "source": [
        "# Удаление столбца 'gap'\n",
        "df_with_pubchem_descriptors_numeric.drop(columns=['gap'], inplace=True)\n"
      ],
      "metadata": {
        "id": "ddsoHuQkq27x"
      },
      "execution_count": 25,
      "outputs": []
    },
    {
      "cell_type": "code",
      "source": [
        "# Применение метода отбора признаков на основе корреляции Пирсона\n",
        "selected_features_pearson = selector_pearson.fit_transform(df_with_pubchem_descriptors_numeric, df_with_pubchem_descriptors['gap'])\n",
        "selected_feature_names_pearson = df_with_pubchem_descriptors_numeric.columns[selector_pearson.get_support()]"
      ],
      "metadata": {
        "id": "qyauKljQp0rj"
      },
      "execution_count": 26,
      "outputs": []
    },
    {
      "cell_type": "code",
      "source": [
        "gap_counts = df['gap'].value_counts(normalize=False)\n",
        "print(gap_counts)"
      ],
      "metadata": {
        "colab": {
          "base_uri": "https://localhost:8080/"
        },
        "id": "eUgqYmuVPxZc",
        "outputId": "d7bfb9aa-0610-4665-dea7-3e1524e6426f"
      },
      "execution_count": 27,
      "outputs": [
        {
          "output_type": "stream",
          "name": "stdout",
          "text": [
            "gap\n",
            "0.2097    3\n",
            "0.2046    2\n",
            "0.2161    2\n",
            "0.2608    2\n",
            "0.2155    2\n",
            "         ..\n",
            "0.1847    1\n",
            "0.2638    1\n",
            "0.3104    1\n",
            "0.2522    1\n",
            "0.2479    1\n",
            "Name: count, Length: 94, dtype: int64\n"
          ]
        }
      ]
    },
    {
      "cell_type": "code",
      "source": [
        "# Применение метода отбора признаков на основе взаимной информации\n",
        "selector_mutual_info = SelectKBest(score_func=mutual_info_regression, k=500)"
      ],
      "metadata": {
        "id": "uACqPaMEryKS"
      },
      "execution_count": 28,
      "outputs": []
    },
    {
      "cell_type": "code",
      "source": [
        "# Удаление столбцов с типом данных 'O' (строковых столбцов)\n",
        "df_with_pubchem_descriptors_numeric = df_with_pubchem_descriptors.select_dtypes(exclude=['object'])\n"
      ],
      "metadata": {
        "id": "W8-yt5AMsG4q"
      },
      "execution_count": 29,
      "outputs": []
    },
    {
      "cell_type": "code",
      "source": [
        "# Удаление столбцов 'gap' и столбца с идентификаторами молекул\n",
        "df_with_pubchem_descriptors_numeric.drop(columns=['gap'], inplace=True)"
      ],
      "metadata": {
        "id": "K1okpeLDsKUJ"
      },
      "execution_count": 30,
      "outputs": []
    },
    {
      "cell_type": "code",
      "source": [
        "# Применение метода отбора признаков на основе взаимной информации\n",
        "selected_features_mutual_info = selector_mutual_info.fit_transform(df_with_pubchem_descriptors_numeric, df_with_pubchem_descriptors['gap'])\n",
        "selected_feature_names_mutual_info = df_with_pubchem_descriptors_numeric.columns[selector_mutual_info.get_support()]"
      ],
      "metadata": {
        "id": "JxvIfs1ur45C"
      },
      "execution_count": 31,
      "outputs": []
    },
    {
      "cell_type": "code",
      "source": [
        "# Создание DataFrame с выбранными признаками и таргетом gap для корреляции Пирсона\n",
        "selected_features_df_pearson = pd.DataFrame(selected_features_pearson, columns=selected_feature_names_pearson)\n",
        "selected_features_df_pearson['gap'] = df_with_pubchem_descriptors['gap']"
      ],
      "metadata": {
        "id": "bWOss7XksjBS"
      },
      "execution_count": 32,
      "outputs": []
    },
    {
      "cell_type": "code",
      "source": [
        "# Создание DataFrame с выбранными признаками и таргетом gap для взаимной информации\n",
        "selected_features_df_mutual_info = pd.DataFrame(selected_features_mutual_info, columns=selected_feature_names_mutual_info)\n",
        "selected_features_df_mutual_info['gap'] = df_with_pubchem_descriptors['gap']"
      ],
      "metadata": {
        "id": "jwzuYCu-s6AZ"
      },
      "execution_count": 33,
      "outputs": []
    },
    {
      "cell_type": "code",
      "source": [
        "# Сохранение датасетов с выбранными признаками\n",
        "selected_features_df_pearson.to_csv('pearson_data.csv', index=False)\n",
        "selected_features_df_mutual_info.to_csv('mutual_info)data.csv', index=False)"
      ],
      "metadata": {
        "id": "mv8jnqzjs9Np"
      },
      "execution_count": 35,
      "outputs": []
    },
    {
      "cell_type": "code",
      "source": [
        "# Объединение выбранных признаков от метода отбора признаков на основе корреляции Пирсона и взаимной информации\n",
        "selected_features_combined = pd.concat([selected_features_df_pearson, selected_features_df_mutual_info], axis=1)"
      ],
      "metadata": {
        "id": "APTRtWb9QZKS"
      },
      "execution_count": 36,
      "outputs": []
    },
    {
      "cell_type": "code",
      "source": [
        "# Сохранение объединенного датасета с выбранными признаками\n",
        "selected_features_combined.to_csv('mesh_data.csv', index=False)"
      ],
      "metadata": {
        "id": "XqW1a68Mt1SS"
      },
      "execution_count": 37,
      "outputs": []
    },
    {
      "cell_type": "code",
      "source": [],
      "metadata": {
        "id": "K6i465bn6YGj"
      },
      "execution_count": null,
      "outputs": []
    }
  ]
}